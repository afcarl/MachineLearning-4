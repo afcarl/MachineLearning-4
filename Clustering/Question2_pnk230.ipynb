{
 "cells": [
  {
   "cell_type": "code",
   "execution_count": 1,
   "metadata": {
    "collapsed": true
   },
   "outputs": [],
   "source": [
    "import pandas as pd\n",
    "%matplotlib inline\n",
    "import seaborn as sns\n",
    "import geopandas as gpd\n",
    "import numpy as np\n",
    "import matplotlib.pyplot as plt\n",
    "import pysal as ps\n",
    "import mplleaflet\n",
    "import zipfile\n",
    "import sklearn.cluster"
   ]
  },
  {
   "cell_type": "code",
   "execution_count": 2,
   "metadata": {
    "collapsed": true
   },
   "outputs": [],
   "source": [
    "data = pd.read_csv('original_with_errors_noid.csv')"
   ]
  },
  {
   "cell_type": "code",
   "execution_count": 3,
   "metadata": {
    "collapsed": false
   },
   "outputs": [],
   "source": [
    "data_unique = data.drop_duplicates()"
   ]
  },
  {
   "cell_type": "code",
   "execution_count": 4,
   "metadata": {
    "collapsed": false
   },
   "outputs": [
    {
     "data": {
      "text/plain": [
       "1100"
      ]
     },
     "execution_count": 4,
     "metadata": {},
     "output_type": "execute_result"
    }
   ],
   "source": [
    "len(data)"
   ]
  },
  {
   "cell_type": "code",
   "execution_count": 5,
   "metadata": {
    "collapsed": true
   },
   "outputs": [],
   "source": [
    "for elem in ['day','month','location.housing','suspect.sex','suspect.build','suspect.race']:\n",
    "    \n",
    "\n",
    "    unique_list = list(set(data[elem]))\n",
    "    days_dict = dict(zip(unique_list,range(len(unique_list))))\n",
    "    data[elem] = map(lambda x:days_dict[x],data[elem])"
   ]
  },
  {
   "cell_type": "code",
   "execution_count": 6,
   "metadata": {
    "collapsed": false
   },
   "outputs": [],
   "source": [
    "db = sklearn.cluster.DBSCAN(eps=4.5, min_samples=1).fit(data)\n",
    "core_samples_mask = np.zeros_like(db.labels_, dtype=bool)\n",
    "core_samples_mask[db.core_sample_indices_] = True\n",
    "labels = db.labels_\n",
    "\n",
    "# Number of clusters in labels, ignoring noise if present.\n",
    "n_clusters_ = len(set(labels)) - (1 if -1 in labels else 0)"
   ]
  },
  {
   "cell_type": "code",
   "execution_count": 7,
   "metadata": {
    "collapsed": false,
    "scrolled": true
   },
   "outputs": [
    {
     "name": "stdout",
     "output_type": "stream",
     "text": [
      "1020\n"
     ]
    }
   ],
   "source": [
    "data['cluster'] = labels\n",
    "print len(set(labels))"
   ]
  },
  {
   "cell_type": "code",
   "execution_count": 8,
   "metadata": {
    "collapsed": false,
    "scrolled": false
   },
   "outputs": [],
   "source": [
    "columns_list = []\n",
    "for l in labels:\n",
    "    \n",
    "    sub = data[data['cluster']==l]\n",
    "    \n",
    "    \n",
    "    if len(sub)>1:\n",
    "        for cols in sub.columns:\n",
    "           \n",
    "            \n",
    "            if len(set(sub[cols]))>1:\n",
    "                \n",
    "                columns_list.append(cols)\n",
    "        "
   ]
  },
  {
   "cell_type": "code",
   "execution_count": 9,
   "metadata": {
    "collapsed": false
   },
   "outputs": [
    {
     "name": "stdout",
     "output_type": "stream",
     "text": [
      "Counter({'suspect.age': 120, 'suspect.height': 100, 'month': 90, 'day': 89, 'time.period': 76, 'precinct': 70, 'year': 58, 'stopped.bc.bulge': 58, 'observation.period': 57, 'additional.highcrime': 56, 'stopped.bc.furtive': 55, 'additional.time': 54, 'suspect.race': 47, 'suspect.build': 45, 'officer.uniform': 45, 'additional.proximity': 41, 'location.housing': 37, 'additional.direction': 36, 'stopped.bc.desc': 33, 'additional.investigation': 30, 'stopped.bc.violent': 29, 'radio.run': 26, 'stopped.bc.lookout': 25, 'additional.evasive': 25, 'stopped.bc.casing': 24, 'inside.outside': 22, 'additional.report': 20, 'stopped.bc.other': 17, 'stopped.bc.clothing': 16, 'suspect.sex': 15, 'arrested': 14, 'additional.associating': 12, 'additional.other': 7, 'stopped.bc.object': 6, 'stopped.bc.drugs': 6, 'suspect.weight': 4, 'found.weapon': 4, 'additional.sights': 2})\n"
     ]
    }
   ],
   "source": [
    "import collections\n",
    "\n",
    "counter=collections.Counter(columns_list)\n",
    "print(counter)"
   ]
  },
  {
   "cell_type": "markdown",
   "metadata": {},
   "source": [
    "The two features with errors are suspect age and height"
   ]
  },
  {
   "cell_type": "code",
   "execution_count": null,
   "metadata": {
    "collapsed": true
   },
   "outputs": [],
   "source": []
  }
 ],
 "metadata": {
  "kernelspec": {
   "display_name": "Python 2",
   "language": "python",
   "name": "python2"
  },
  "language_info": {
   "codemirror_mode": {
    "name": "ipython",
    "version": 2
   },
   "file_extension": ".py",
   "mimetype": "text/x-python",
   "name": "python",
   "nbconvert_exporter": "python",
   "pygments_lexer": "ipython2",
   "version": "2.7.11"
  }
 },
 "nbformat": 4,
 "nbformat_minor": 0
}
