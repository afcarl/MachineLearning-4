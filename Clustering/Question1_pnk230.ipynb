{
 "cells": [
  {
   "cell_type": "markdown",
   "metadata": {},
   "source": [
    "### Q1.\n",
    "You are given 1,069 stop records in the file ‘original_with_duplicates_noid.csv’, but  unfortunately technical errors have resulted in some exact duplicate records.  You know  there are around 1,000 unique stops in the file (there may be slightly more or slightly  fewer).   \n",
    "\n",
    "a) Use a clustering technique of your choice to determine how many unique records  there are.   \n",
    "b) Check your work by looking for row­wise duplicates using any technique of your  choice (this should be straightforward).  How well did your clustering technique  perform?  \n",
    "c) Write a paragraph explaining what you did in parts a) and b)  "
   ]
  },
  {
   "cell_type": "code",
   "execution_count": 57,
   "metadata": {
    "collapsed": false
   },
   "outputs": [],
   "source": [
    "import pandas as pd\n",
    "%matplotlib inline\n",
    "import seaborn as sns\n",
    "import geopandas as gpd\n",
    "import numpy as np\n",
    "import matplotlib.pyplot as plt\n",
    "import pysal as ps\n",
    "import mplleaflet\n",
    "import zipfile \n",
    "import sklearn.cluster"
   ]
  },
  {
   "cell_type": "code",
   "execution_count": 58,
   "metadata": {
    "collapsed": false
   },
   "outputs": [],
   "source": [
    "data = pd.read_csv('original_with_duplicates_noid.csv')\n"
   ]
  },
  {
   "cell_type": "code",
   "execution_count": 59,
   "metadata": {
    "collapsed": true
   },
   "outputs": [],
   "source": [
    "data1 = pd.DataFrame(columns=data.columns)"
   ]
  },
  {
   "cell_type": "code",
   "execution_count": 60,
   "metadata": {
    "collapsed": false
   },
   "outputs": [
    {
     "data": {
      "text/html": [
       "<div>\n",
       "<table border=\"1\" class=\"dataframe\">\n",
       "  <thead>\n",
       "    <tr style=\"text-align: right;\">\n",
       "      <th></th>\n",
       "      <th>year</th>\n",
       "      <th>found.weapon</th>\n",
       "      <th>found.gun</th>\n",
       "      <th>arrested</th>\n",
       "      <th>suspect.race</th>\n",
       "      <th>suspect.age</th>\n",
       "      <th>suspect.build</th>\n",
       "      <th>suspect.sex</th>\n",
       "      <th>suspect.height</th>\n",
       "      <th>suspect.weight</th>\n",
       "      <th>...</th>\n",
       "      <th>additional.associating</th>\n",
       "      <th>additional.direction</th>\n",
       "      <th>additional.highcrime</th>\n",
       "      <th>additional.time</th>\n",
       "      <th>additional.sights</th>\n",
       "      <th>additional.other</th>\n",
       "      <th>radio.run</th>\n",
       "      <th>day</th>\n",
       "      <th>month</th>\n",
       "      <th>time.period</th>\n",
       "    </tr>\n",
       "  </thead>\n",
       "  <tbody>\n",
       "    <tr>\n",
       "      <th>1</th>\n",
       "      <td>2011</td>\n",
       "      <td>False</td>\n",
       "      <td>False</td>\n",
       "      <td>False</td>\n",
       "      <td>asian</td>\n",
       "      <td>40</td>\n",
       "      <td>medium</td>\n",
       "      <td>male</td>\n",
       "      <td>6.166667</td>\n",
       "      <td>225</td>\n",
       "      <td>...</td>\n",
       "      <td>False</td>\n",
       "      <td>False</td>\n",
       "      <td>True</td>\n",
       "      <td>True</td>\n",
       "      <td>False</td>\n",
       "      <td>False</td>\n",
       "      <td>False</td>\n",
       "      <td>Friday</td>\n",
       "      <td>November</td>\n",
       "      <td>6</td>\n",
       "    </tr>\n",
       "  </tbody>\n",
       "</table>\n",
       "<p>1 rows × 39 columns</p>\n",
       "</div>"
      ],
      "text/plain": [
       "   year found.weapon found.gun arrested suspect.race  suspect.age  \\\n",
       "1  2011        False     False    False        asian           40   \n",
       "\n",
       "  suspect.build suspect.sex  suspect.height  suspect.weight     ...      \\\n",
       "1        medium        male        6.166667             225     ...       \n",
       "\n",
       "  additional.associating additional.direction additional.highcrime  \\\n",
       "1                  False                False                 True   \n",
       "\n",
       "  additional.time additional.sights additional.other radio.run     day  \\\n",
       "1            True             False            False     False  Friday   \n",
       "\n",
       "      month time.period  \n",
       "1  November           6  \n",
       "\n",
       "[1 rows x 39 columns]"
      ]
     },
     "execution_count": 60,
     "metadata": {},
     "output_type": "execute_result"
    }
   ],
   "source": [
    "data1.append(data[1:2])"
   ]
  },
  {
   "cell_type": "code",
   "execution_count": 61,
   "metadata": {
    "collapsed": false
   },
   "outputs": [
    {
     "data": {
      "text/html": [
       "<div>\n",
       "<table border=\"1\" class=\"dataframe\">\n",
       "  <thead>\n",
       "    <tr style=\"text-align: right;\">\n",
       "      <th></th>\n",
       "      <th>year</th>\n",
       "      <th>found.weapon</th>\n",
       "      <th>found.gun</th>\n",
       "      <th>arrested</th>\n",
       "      <th>suspect.race</th>\n",
       "      <th>suspect.age</th>\n",
       "      <th>suspect.build</th>\n",
       "      <th>suspect.sex</th>\n",
       "      <th>suspect.height</th>\n",
       "      <th>suspect.weight</th>\n",
       "      <th>...</th>\n",
       "      <th>additional.associating</th>\n",
       "      <th>additional.direction</th>\n",
       "      <th>additional.highcrime</th>\n",
       "      <th>additional.time</th>\n",
       "      <th>additional.sights</th>\n",
       "      <th>additional.other</th>\n",
       "      <th>radio.run</th>\n",
       "      <th>day</th>\n",
       "      <th>month</th>\n",
       "      <th>time.period</th>\n",
       "    </tr>\n",
       "  </thead>\n",
       "  <tbody>\n",
       "  </tbody>\n",
       "</table>\n",
       "<p>0 rows × 39 columns</p>\n",
       "</div>"
      ],
      "text/plain": [
       "Empty DataFrame\n",
       "Columns: [year, found.weapon, found.gun, arrested, suspect.race, suspect.age, suspect.build, suspect.sex, suspect.height, suspect.weight, stopped.bc.desc, stopped.bc.violent, stopped.bc.other, stopped.bc.object, stopped.bc.casing, stopped.bc.lookout, stopped.bc.drugs, stopped.bc.clothing, stopped.bc.furtive, stopped.bc.bulge, precinct, inside.outside, location.housing, observation.period, officer.uniform, additional.report, additional.investigation, additional.proximity, additional.evasive, additional.associating, additional.direction, additional.highcrime, additional.time, additional.sights, additional.other, radio.run, day, month, time.period]\n",
       "Index: []\n",
       "\n",
       "[0 rows x 39 columns]"
      ]
     },
     "execution_count": 61,
     "metadata": {},
     "output_type": "execute_result"
    }
   ],
   "source": [
    "data1"
   ]
  },
  {
   "cell_type": "code",
   "execution_count": 62,
   "metadata": {
    "collapsed": true
   },
   "outputs": [],
   "source": [
    "for elem in ['day','month','location.housing','suspect.sex','suspect.build','suspect.race']:\n",
    "    \n",
    "\n",
    "    unique_list = list(set(data[elem]))\n",
    "    days_dict = dict(zip(unique_list,range(len(unique_list))))\n",
    "    data[elem] = map(lambda x:days_dict[x],data[elem])\n"
   ]
  },
  {
   "cell_type": "code",
   "execution_count": 64,
   "metadata": {
    "collapsed": false
   },
   "outputs": [],
   "source": [
    "db = sklearn.cluster.DBSCAN(eps=0.5, min_samples=1).fit(data)\n",
    "core_samples_mask = np.zeros_like(db.labels_, dtype=bool)\n",
    "core_samples_mask[db.core_sample_indices_] = True\n",
    "labels = db.labels_\n",
    "\n",
    "# Number of clusters in labels, ignoring noise if present.\n",
    "n_clusters_ = len(set(labels)) - (1 if -1 in labels else 0)"
   ]
  },
  {
   "cell_type": "code",
   "execution_count": 65,
   "metadata": {
    "collapsed": false
   },
   "outputs": [
    {
     "data": {
      "text/plain": [
       "997"
      ]
     },
     "execution_count": 65,
     "metadata": {},
     "output_type": "execute_result"
    }
   ],
   "source": [
    "n_clusters_\n",
    "#Checking the number of clusters"
   ]
  },
  {
   "cell_type": "code",
   "execution_count": 66,
   "metadata": {
    "collapsed": false
   },
   "outputs": [],
   "source": [
    "data['label'] = labels\n",
    "#assigning labels"
   ]
  },
  {
   "cell_type": "code",
   "execution_count": 67,
   "metadata": {
    "collapsed": false
   },
   "outputs": [
    {
     "name": "stdout",
     "output_type": "stream",
     "text": [
      "40\n"
     ]
    }
   ],
   "source": [
    "print len(data.columns)"
   ]
  },
  {
   "cell_type": "code",
   "execution_count": 68,
   "metadata": {
    "collapsed": false
   },
   "outputs": [],
   "source": [
    "a = np.zeros(shape=(n_clusters_,40))\n",
    "for i in labels:\n",
    "    \n",
    "    a[i,:] = data[data['label']==i][0:1]\n",
    "    \n"
   ]
  },
  {
   "cell_type": "code",
   "execution_count": 69,
   "metadata": {
    "collapsed": false,
    "scrolled": true
   },
   "outputs": [],
   "source": [
    "data1 = pd.DataFrame(a,columns = data.columns)"
   ]
  },
  {
   "cell_type": "code",
   "execution_count": 70,
   "metadata": {
    "collapsed": false,
    "scrolled": true
   },
   "outputs": [
    {
     "name": "stdout",
     "output_type": "stream",
     "text": [
      "997\n"
     ]
    }
   ],
   "source": [
    "print len(data1)"
   ]
  },
  {
   "cell_type": "markdown",
   "metadata": {
    "collapsed": true
   },
   "source": [
    "### Accuracy Measure"
   ]
  },
  {
   "cell_type": "code",
   "execution_count": 72,
   "metadata": {
    "collapsed": false
   },
   "outputs": [
    {
     "name": "stdout",
     "output_type": "stream",
     "text": [
      "100.0\n"
     ]
    }
   ],
   "source": [
    "data_test = data.drop_duplicates()\n",
    "data_subset = data1\n",
    "Percentage = (len(data_subset[data_subset.isin(data_test)])*1.0/len(data_test))*100\n",
    "print Percentage"
   ]
  },
  {
   "cell_type": "markdown",
   "metadata": {},
   "source": [
    "1.I tried different values of eps (The maximum distance between two samples for them to be considered as in the same neighborhood.) and kept the min_sample=1 means I allow one cluster to have one values, which is what we need to get unique rows.\n",
    "2.The second part just calculates the unique dataframe by dropping the duplicates, and I used that as a measure of finding the value of 'eps'.\n",
    "The different values of eps that I tried are not shown here, but I used the accuracy measure as a metric to see what value of eps to use till I got the one that was the best."
   ]
  },
  {
   "cell_type": "code",
   "execution_count": null,
   "metadata": {
    "collapsed": true
   },
   "outputs": [],
   "source": []
  }
 ],
 "metadata": {
  "kernelspec": {
   "display_name": "Python 2",
   "language": "python",
   "name": "python2"
  },
  "language_info": {
   "codemirror_mode": {
    "name": "ipython",
    "version": 2
   },
   "file_extension": ".py",
   "mimetype": "text/x-python",
   "name": "python",
   "nbconvert_exporter": "python",
   "pygments_lexer": "ipython2",
   "version": "2.7.11"
  }
 },
 "nbformat": 4,
 "nbformat_minor": 0
}
