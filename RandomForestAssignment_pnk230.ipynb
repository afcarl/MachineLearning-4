{
 "cells": [
  {
   "cell_type": "code",
   "execution_count": 1,
   "metadata": {
    "collapsed": false
   },
   "outputs": [],
   "source": [
    "import pandas as pd\n",
    "import numpy as np\n",
    "import matplotlib.pyplot as plt\n",
    "%matplotlib inline\n",
    "from sklearn.ensemble import RandomForestClassifier\n",
    "from sklearn.metrics import roc_auc_score\n",
    "from sklearn.metrics import accuracy_score\n",
    "import random\n",
    "import pydot\n",
    "from sklearn.cross_validation import cross_val_score\n",
    "from sklearn.cross_validation import train_test_split\n",
    "from sklearn.ensemble import RandomForestClassifier"
   ]
  },
  {
   "cell_type": "code",
   "execution_count": 2,
   "metadata": {
    "collapsed": true
   },
   "outputs": [],
   "source": [
    "data = pd.read_csv(\"hw_2_stops.csv\").dropna()"
   ]
  },
  {
   "cell_type": "code",
   "execution_count": null,
   "metadata": {
    "collapsed": false,
    "scrolled": true
   },
   "outputs": [],
   "source": [
    "data.dtypes"
   ]
  },
  {
   "cell_type": "code",
   "execution_count": 3,
   "metadata": {
    "collapsed": true
   },
   "outputs": [],
   "source": [
    "for elem in ['day','month','location.housing','suspect.sex','suspect.build','suspect.race','suspected.crime']:\n",
    "    \n",
    "\n",
    "    unique_list = list(set(data[elem]))\n",
    "    days_dict = dict(zip(unique_list,range(len(unique_list))))\n",
    "    data[elem] = map(lambda x:days_dict[x],data[elem])"
   ]
  },
  {
   "cell_type": "code",
   "execution_count": 4,
   "metadata": {
    "collapsed": true
   },
   "outputs": [],
   "source": [
    "X = data.drop(['found.weapon','arrested','date'],1)\n",
    "y = data['arrested']"
   ]
  },
  {
   "cell_type": "code",
   "execution_count": 10,
   "metadata": {
    "collapsed": true
   },
   "outputs": [],
   "source": [
    "X_train, X_test, y_train, y_test = train_test_split(X, y, test_size=0.25, random_state=1)"
   ]
  },
  {
   "cell_type": "code",
   "execution_count": 6,
   "metadata": {
    "collapsed": false,
    "scrolled": true
   },
   "outputs": [
    {
     "name": "stdout",
     "output_type": "stream",
     "text": [
      "96.7058930438\n",
      "0.912987157722\n"
     ]
    }
   ],
   "source": [
    "clf = RandomForestClassifier(random_state=0,min_samples_split=100,max_features=6,n_estimators=10 )#,min_samples_split=i,max_features=6)\n",
    "fitted_model = clf.fit(X_train,y_train)\n",
    "result = clf.predict(X_test)\n",
    "print sum(result==y_test)*100.0/len(y_test)\n",
    "print(roc_auc_score(result, y_test))"
   ]
  },
  {
   "cell_type": "code",
   "execution_count": 7,
   "metadata": {
    "collapsed": false
   },
   "outputs": [
    {
     "data": {
      "text/plain": [
       "0.91298715772169048"
      ]
     },
     "execution_count": 7,
     "metadata": {},
     "output_type": "execute_result"
    }
   ],
   "source": [
    "roc_auc_score(result, y_test)"
   ]
  },
  {
   "cell_type": "code",
   "execution_count": 16,
   "metadata": {
    "collapsed": false
   },
   "outputs": [
    {
     "name": "stdout",
     "output_type": "stream",
     "text": [
      "96.8208809683\n",
      "96.8320652041\n",
      "96.8299681599\n",
      "96.8128422988\n",
      "96.834861263\n"
     ]
    },
    {
     "data": {
      "text/plain": [
       "<matplotlib.text.Text at 0x14155400>"
      ]
     },
     "execution_count": 16,
     "metadata": {},
     "output_type": "execute_result"
    },
    {
     "data": {
      "image/png": "[encoded data removed]",
      "text/plain": [
       "<matplotlib.figure.Figure at 0x13eacb70>"
      ]
     },
     "metadata": {},
     "output_type": "display_data"
    }
   ],
   "source": [
    "scores = []\n",
    "for i in range(10,15):\n",
    "    \n",
    "    clf = RandomForestClassifier(random_state=0,min_samples_split=i,max_features=6,n_estimators=10,n_jobs=-1 )\n",
    "    fitted_model = clf.fit(X_train,y_train)\n",
    "    result = clf.predict(X_test)\n",
    "    print sum(result==y_test)*100.0/len(y_test)\n",
    "    scores.append(roc_auc_score(result, y_test))\n",
    "\n",
    "plt.plot(range(10,15),scores)\n",
    "plt.xlabel(\"MinSamples\")\n",
    "plt.ylabel(\"AUC Score\")\n",
    "plt.title(\"AUC Scores\")"
   ]
  },
  {
   "cell_type": "code",
   "execution_count": 14,
   "metadata": {
    "collapsed": false
   },
   "outputs": [
    {
     "data": {
      "text/plain": [
       "[0.9111875314798642]"
      ]
     },
     "execution_count": 14,
     "metadata": {},
     "output_type": "execute_result"
    }
   ],
   "source": [
    "scores"
   ]
  },
  {
   "cell_type": "code",
   "execution_count": 17,
   "metadata": {
    "collapsed": false
   },
   "outputs": [],
   "source": [
    "prob = clf.predict_proba(X_test)\n",
    "XTEST = X_test.join(y_test)\n",
    "XTEST['Prob'] = prob[:,1:2]\n",
    "XTEST['pred'] = result"
   ]
  },
  {
   "cell_type": "code",
   "execution_count": 18,
   "metadata": {
    "collapsed": false
   },
   "outputs": [
    {
     "name": "stdout",
     "output_type": "stream",
     "text": [
      "[ 10 122  47 115  71  66  25  76  79 110 103  61  34  73  60  63  23 107\n",
      "  26   6  14  49  43  62 105  81 101  19  88   1   7  17  44  40  13 102\n",
      "  69  32  75 111  94 112  46  20  24 113  42  52  41  90  33 120 114  67\n",
      "  83 104 108 100  70  72  28  48  18  50  77 109  68  30   5  78 106  84\n",
      "   9  45  22 123]\n",
      "[3 1 5 2 0 4]\n"
     ]
    },
    {
     "data": {
      "image/png": "[encoded data removed]",
      "text/plain": [
       "<matplotlib.figure.Figure at 0x13eb3e48>"
      ]
     },
     "metadata": {},
     "output_type": "display_data"
    }
   ],
   "source": [
    "plt.figure(figsize=(10, 8), dpi=200)\n",
    "p = 1\n",
    "\n",
    "for cols in ['precinct','suspect.race']:\n",
    "    x=[]\n",
    "    y=[]\n",
    "    uniques = XTEST[cols].unique()\n",
    "    #print uniques\n",
    "    for i in uniques:\n",
    "        y.append(sum(XTEST[XTEST[cols]==i].arrested)*1.0/len(XTEST[XTEST[cols]==i]))\n",
    "        x.append(sum(XTEST[XTEST[cols]==i].Prob)*1.0/len(XTEST[XTEST[cols]==i]))\n",
    "    plt.subplot(1, 2, p)\n",
    "    p += 1\n",
    "    plt.scatter(x,y)\n",
    "    plt.xlabel(\"Average Model Predictions\")\n",
    "    plt.ylabel(\"Empirical Outcomes\")\n",
    "    plt.title(\"Calibaration of Featues: \"+cols)\n"
   ]
  },
  {
   "cell_type": "markdown",
   "metadata": {
    "collapsed": false
   },
   "source": [
    "The first step was to randomly split the data into training and testing data (The conventional rule is 60,20,20 for train, validation, test) but validation is not used here so the split is 75:25. The test variable is arrested, but dates, is removed, as it didn't seem that important. Also the optional subsetting was not performed as the variable is arrested and subsetting did not seem like the best option as there are many predicates anyway. The min_sample was used to control the tree and not leaf nodes, also maximum features for splitting was taken to be 6, and not much experimented with- less than the almost square root of the total number of features.The AUC score increases as the samples in the each split are increased from 10-20, meaning that overfitting was happening before.\n"
   ]
  },
  {
   "cell_type": "code",
   "execution_count": null,
   "metadata": {
    "collapsed": true
   },
   "outputs": [],
   "source": []
  }
 ],
 "metadata": {
  "kernelspec": {
   "display_name": "Python 2",
   "language": "python",
   "name": "python2"
  },
  "language_info": {
   "codemirror_mode": {
    "name": "ipython",
    "version": 2
   },
   "file_extension": ".py",
   "mimetype": "text/x-python",
   "name": "python",
   "nbconvert_exporter": "python",
   "pygments_lexer": "ipython2",
   "version": "2.7.11"
  }
 },
 "nbformat": 4,
 "nbformat_minor": 0
}
